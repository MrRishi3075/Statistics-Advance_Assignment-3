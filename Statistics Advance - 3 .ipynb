{
 "cells": [
  {
   "cell_type": "markdown",
   "id": "dd7b6c72-3fa1-4a14-8bfd-145c710b619e",
   "metadata": {},
   "source": [
    "### Q1: What is Estimation Statistics? Explain point estimate and interval estimate.\n"
   ]
  },
  {
   "cell_type": "markdown",
   "id": "4827477f-c10c-47bf-bb69-2afeeb0a4789",
   "metadata": {},
   "source": [
    "* Estimation Statistics:\n",
    "Estimation in statistics involves the process of using sample data to make inferences about unknown population parameters. It helps us provide estimates of values we are interested in, such as means, proportions, or variances.\n",
    "\n",
    "* Point Estimate:\n",
    "A point estimate is a single value that is used to approximate the unknown population parameter. For example, the sample mean is a point estimate of the population mean.\n",
    "\n",
    "* Interval Estimate:\n",
    "An interval estimate provides a range of values within which the true population parameter is likely to fall. It consists of a point estimate and a margin of error. Confidence intervals are common forms of interval estimates."
   ]
  },
  {
   "cell_type": "code",
   "execution_count": null,
   "id": "712ee104-46be-46cb-b1b2-2f542557d5c0",
   "metadata": {},
   "outputs": [],
   "source": []
  },
  {
   "cell_type": "markdown",
   "id": "611b0fd7-d77c-4037-983e-610a9ff1d948",
   "metadata": {},
   "source": [
    "\n",
    "### Q2. Write a Python function to estimate the population mean using a sample mean and standard deviation."
   ]
  },
  {
   "cell_type": "code",
   "execution_count": 1,
   "id": "b47bd2f1-50af-40da-a3fb-eaf005981784",
   "metadata": {},
   "outputs": [
    {
     "name": "stdout",
     "output_type": "stream",
     "text": [
      "Population mean estimate (95% confidence interval): (58.04, 61.96)\n"
     ]
    }
   ],
   "source": [
    "def estimate_population_mean(sample_mean, sample_std, sample_size):\n",
    "    margin_of_error = 1.96 * (sample_std / (sample_size ** 0.5))  # 1.96 is the z-value for a 95% confidence interval\n",
    "    confidence_interval = (sample_mean - margin_of_error, sample_mean + margin_of_error)\n",
    "    return confidence_interval\n",
    "\n",
    "# Example usage:\n",
    "sample_mean = 60\n",
    "sample_std = 10\n",
    "sample_size = 100\n",
    "result = estimate_population_mean(sample_mean, sample_std, sample_size)\n",
    "print(\"Population mean estimate (95% confidence interval):\", result)\n"
   ]
  },
  {
   "cell_type": "code",
   "execution_count": null,
   "id": "7625437c-8f52-436c-be29-495d52ba89bf",
   "metadata": {},
   "outputs": [],
   "source": []
  },
  {
   "cell_type": "markdown",
   "id": "64849322-feba-4bf4-a753-304af892c6eb",
   "metadata": {},
   "source": [
    "\n",
    "\n",
    "### Q3: What is Hypothesis testing? Why is it used? State the importance of Hypothesis testing."
   ]
  },
  {
   "cell_type": "markdown",
   "id": "bb89f87a-b694-4d77-9f51-4479ff196597",
   "metadata": {},
   "source": [
    "#### Hypothesis Testing:\n",
    "\n",
    "Hypothesis testing is a statistical method used to make inferences about population parameters based on sample data. It involves formulating a hypothesis about the population parameter, collecting and analyzing data, and then making a decision about whether to reject or fail to reject the null hypothesis.\n",
    "\n",
    "#### Importance of Hypothesis Testing:\n",
    "\n",
    "Hypothesis testing helps researchers and analysts to make decisions and draw conclusions about populations based on limited sample data. It provides a systematic way to evaluate and validate claims or assumptions, leading to more informed and evidence-based decision-making.\n",
    "\n"
   ]
  },
  {
   "cell_type": "code",
   "execution_count": null,
   "id": "920086cc-82f3-4356-97e2-00ed3e410d2b",
   "metadata": {},
   "outputs": [],
   "source": []
  },
  {
   "cell_type": "markdown",
   "id": "a18f05ac-40db-4bfd-83ae-5df04cc2b521",
   "metadata": {},
   "source": [
    "\n",
    "\n",
    "### Q4. Create a hypothesis that states whether the average weight of male college students is greater than the average weight of female college students.\n"
   ]
  },
  {
   "cell_type": "markdown",
   "id": "f12f3d50-618d-40f3-b638-e80b6e5a0302",
   "metadata": {},
   "source": [
    "#### Hypothesis:\n",
    "\n",
    "##### Null Hypothesis (H0): The average weight of male college students is equal to or less than the average weight of female college students.\n",
    "\n",
    "##### Alternative Hypothesis (H1): The average weight of male college students is greater than the average weight of female college students."
   ]
  },
  {
   "cell_type": "code",
   "execution_count": null,
   "id": "6466ca8f-67c0-4467-b3c1-4bf63489495a",
   "metadata": {},
   "outputs": [],
   "source": []
  },
  {
   "cell_type": "markdown",
   "id": "1fe38146-6275-4abf-b79d-b17f2074f0fb",
   "metadata": {},
   "source": [
    "\n",
    "### Q5. Write a Python script to conduct a hypothesis test on the difference between two population means, given a sample from each population.\n"
   ]
  },
  {
   "cell_type": "code",
   "execution_count": 2,
   "id": "489f5e3f-95d0-46e1-bffa-6399786db595",
   "metadata": {},
   "outputs": [
    {
     "name": "stdout",
     "output_type": "stream",
     "text": [
      "P-value for two-sample t-test: 0.017800280949048633\n"
     ]
    }
   ],
   "source": [
    "import scipy.stats as stats\n",
    "\n",
    "def two_sample_t_test(sample1, sample2):\n",
    "    _, p_value = stats.ttest_ind(sample1, sample2)\n",
    "    return p_value\n",
    "\n",
    "# Example usage:\n",
    "sample_male = [72, 75, 78, 70, 74]\n",
    "sample_female = [65, 68, 72, 67, 70]\n",
    "p_value = two_sample_t_test(sample_male, sample_female)\n",
    "print(\"P-value for two-sample t-test:\", p_value)\n"
   ]
  },
  {
   "cell_type": "code",
   "execution_count": null,
   "id": "79c64368-b8eb-4645-a716-bc25ddb9ea32",
   "metadata": {},
   "outputs": [],
   "source": []
  },
  {
   "cell_type": "markdown",
   "id": "e3e51a88-07c4-4c77-99ad-00fafceaebe7",
   "metadata": {},
   "source": [
    "\n",
    "### Q6: What is a null and alternative hypothesis? Give some examples.\n"
   ]
  },
  {
   "cell_type": "markdown",
   "id": "a0214caf-2397-462a-b214-a386d1f6c017",
   "metadata": {},
   "source": [
    "#### Null Hypothesis (H0):\n",
    "\n",
    "The null hypothesis is a statement that there is no significant difference or effect. It often represents the status quo or a default assumption.\n",
    "\n",
    "* Alternative Hypothesis (H1):\n",
    "The alternative hypothesis is a statement that contradicts the null hypothesis, suggesting a significant difference or effect.\n",
    "\n",
    "#### Examples:\n",
    "\n",
    "* H0: The average height of a population is 65 inches.\n",
    "\n",
    "H1: The average height of a population is not 65 inches.\n",
    "\n",
    "* H0: There is no difference in test scores between Group A and Group B.\n",
    "\n",
    "H1: There is a significant difference in test scores between Group A and Group B."
   ]
  },
  {
   "cell_type": "code",
   "execution_count": null,
   "id": "e01a6151-28dc-4437-b4d2-592da1fd0e28",
   "metadata": {},
   "outputs": [],
   "source": []
  },
  {
   "cell_type": "markdown",
   "id": "c32266f8-2e2f-4788-a6bd-7705752b154c",
   "metadata": {
    "tags": []
   },
   "source": [
    "\n",
    "### Q7: Write down the steps involved in hypothesis testing.\n"
   ]
  },
  {
   "cell_type": "markdown",
   "id": "d8444257-3bca-4152-bdea-aaf99336468e",
   "metadata": {},
   "source": [
    "#### Formulate Hypotheses:\n",
    "* Null Hypothesis (H0): No effect or no difference.\n",
    "* Alternative Hypothesis (H1): The effect or difference you want to test.\n",
    "\n",
    "#### Choose Significance Level (α):\n",
    "* Typically set to 0.05, representing a 5% chance of rejecting the null hypothesis when it is true.\n",
    "\n",
    "#### Collect Data:\n",
    "* Obtain a sample from the population.\n",
    "\n",
    "#### Calculate Test Statistic:\n",
    "* Use sample data to calculate a test statistic (e.g., t-statistic, z-statistic).\n",
    "\n",
    "#### Determine Critical Region:\n",
    "* Identify the critical region or rejection region based on the chosen significance level.\n",
    "\n",
    "#### Make a Decision:\n",
    "* Compare the test statistic to the critical value and make a decision to either reject or fail to reject the null hypothesis.\n",
    "\n",
    "* Based on the decision, draw conclusions about the population parameter."
   ]
  },
  {
   "cell_type": "code",
   "execution_count": null,
   "id": "40280c93-08a4-40ed-b2b1-b22b795ec409",
   "metadata": {},
   "outputs": [],
   "source": []
  },
  {
   "cell_type": "markdown",
   "id": "5d8decb0-3db1-4be2-a21a-8cc27a2295c3",
   "metadata": {},
   "source": [
    "\n",
    "### Q8. Define p-value and explain its significance in hypothesis testing.\n"
   ]
  },
  {
   "cell_type": "markdown",
   "id": "cdfba7ba-b5ef-4d1e-a607-d4feba25db35",
   "metadata": {},
   "source": [
    "#### P-value:\n",
    "The p-value is the probability of observing a test statistic as extreme as, or more extreme than, the one calculated from the sample data, assuming the null hypothesis is true.\n",
    "\n",
    "#### Significance in Hypothesis Testing:\n",
    "\n",
    "If the p-value is less than or equal to the significance level (α), you reject the null hypothesis.\n",
    "If the p-value is greater than the significance level, you fail to reject the null hypothesis.\n",
    "\n",
    "A smaller p-value indicates stronger evidence against the null hypothesis, suggesting that the observed results are unlikely to occur by random chance.\n",
    "\n"
   ]
  },
  {
   "cell_type": "code",
   "execution_count": null,
   "id": "17a3e0dc-be26-4fe8-9dd1-ed6b6820ebe4",
   "metadata": {},
   "outputs": [],
   "source": []
  },
  {
   "cell_type": "markdown",
   "id": "aee45a05-6cbc-4636-bbc6-70b0ec6682c3",
   "metadata": {},
   "source": [
    "\n",
    "### Q9. Generate a Student's t-distribution plot using Python's matplotlib library, with the degrees of freedom parameter set to 10.\n"
   ]
  },
  {
   "cell_type": "code",
   "execution_count": 3,
   "id": "9e2aa47b-0266-4a0a-90a1-9eeaa4f449b8",
   "metadata": {},
   "outputs": [
    {
     "data": {
      "image/png": "[encoded data removed]",
      "text/plain": [
       "<Figure size 640x480 with 1 Axes>"
      ]
     },
     "metadata": {},
     "output_type": "display_data"
    }
   ],
   "source": [
    "import matplotlib.pyplot as plt\n",
    "import numpy as np\n",
    "from scipy.stats import t\n",
    "\n",
    "degrees_of_freedom = 10\n",
    "x = np.linspace(-4, 4, 1000)\n",
    "y = t.pdf(x, degrees_of_freedom)\n",
    "\n",
    "plt.plot(x, y, label=f't-distribution (df={degrees_of_freedom})')\n",
    "plt.title(\"Student's t-Distribution\")\n",
    "plt.xlabel('x')\n",
    "plt.ylabel('Probability Density Function (PDF)')\n",
    "plt.legend()\n",
    "plt.show()\n"
   ]
  },
  {
   "cell_type": "code",
   "execution_count": null,
   "id": "9fe720b7-c6c1-45c5-b0f8-c7ce04188d80",
   "metadata": {},
   "outputs": [],
   "source": []
  },
  {
   "cell_type": "markdown",
   "id": "81f37221-c86a-4b84-bd68-d2860b1d6933",
   "metadata": {},
   "source": [
    "\n",
    "### Q10. Write a Python program to calculate the two-sample t-test for independent samples, given two random samples of equal size and a null hypothesis that the population means are equal.\n"
   ]
  },
  {
   "cell_type": "code",
   "execution_count": 4,
   "id": "941b09ce-ec40-4f4d-8b9d-d18ccf788c7b",
   "metadata": {},
   "outputs": [
    {
     "name": "stdout",
     "output_type": "stream",
     "text": [
      "P-value for two-sample t-test: 0.5816333668955778\n"
     ]
    }
   ],
   "source": [
    "import scipy.stats as stats\n",
    "\n",
    "def two_sample_t_test(sample1, sample2):\n",
    "    _, p_value = stats.ttest_ind(sample1, sample2)\n",
    "    return p_value\n",
    "\n",
    "# Example usage:\n",
    "sample1 = [25, 30, 35, 40, 45]\n",
    "sample2 = [20, 28, 32, 38, 42]\n",
    "p_value = two_sample_t_test(sample1, sample2)\n",
    "print(\"P-value for two-sample t-test:\", p_value)\n"
   ]
  },
  {
   "cell_type": "code",
   "execution_count": null,
   "id": "0e441400-dd7a-428d-b4a0-2a761e28b6d9",
   "metadata": {},
   "outputs": [],
   "source": []
  },
  {
   "cell_type": "markdown",
   "id": "9e567528-12ee-4537-beb1-0dc98ecb8f8a",
   "metadata": {},
   "source": [
    "\n",
    "### Q11: What is Student’s t distribution? When to use the t-Distribution.\n"
   ]
  },
  {
   "cell_type": "markdown",
   "id": "d36e5d69-9ce6-4109-82a1-95569f93178d",
   "metadata": {},
   "source": [
    "#### Student's t-Distribution:\n",
    "* The t-distribution is a probability distribution that is used in hypothesis testing when the sample size is small or when the population standard deviation is unknown. It is similar to the normal distribution but has heavier tails.\n",
    "\n",
    "#### When to Use the t-Distribution:\n",
    "##### Use the t-distribution when:\n",
    "\n",
    "* The sample size is small.\n",
    "* The population standard deviation is unknown.\n",
    "* Conducting hypothesis tests or constructing confidence intervals for the population mean."
   ]
  },
  {
   "cell_type": "code",
   "execution_count": null,
   "id": "6d1d01b1-d193-4723-afc0-26ceef07cf09",
   "metadata": {},
   "outputs": [],
   "source": []
  },
  {
   "cell_type": "markdown",
   "id": "6e18feed-9ba9-4ef6-87d9-af0f0c9f97ec",
   "metadata": {},
   "source": [
    "\n",
    "### Q12: What is t-statistic? State the formula for t-statistic.\n"
   ]
  },
  {
   "attachments": {
    "e6ebea85-dae6-4691-8d06-90ea0dd21b6d.png": {
     "image/png": "[encoded data removed]"
    }
   },
   "cell_type": "markdown",
   "id": "e3c40e66-5a70-4d7d-983e-feb92282d56c",
   "metadata": {},
   "source": [
    "t-Statistic:\n",
    "The t-statistic is a measure that indicates how far a sample mean is from the population mean in terms of standard errors.\n",
    "![Screenshot 2023-11-20 132124.png](attachment:e6ebea85-dae6-4691-8d06-90ea0dd21b6d.png)"
   ]
  },
  {
   "cell_type": "code",
   "execution_count": null,
   "id": "3213c626-d2b1-4b77-b052-0425af23066a",
   "metadata": {},
   "outputs": [],
   "source": []
  },
  {
   "cell_type": "markdown",
   "id": "add2f275-3ea3-4e39-8638-8f4ea074dc84",
   "metadata": {},
   "source": [
    "\n",
    "### Q13. A coffee shop owner wants to estimate the average daily revenue for their shop. They take a random sample of 50 days and find the sample mean revenue to be $500 with a standard deviation of $50. Estimate the population mean revenue with a 95% confidence interval.\n"
   ]
  },
  {
   "cell_type": "code",
   "execution_count": 5,
   "id": "bb0890f6-e91e-44d5-acbc-112443f1214b",
   "metadata": {},
   "outputs": [
    {
     "name": "stdout",
     "output_type": "stream",
     "text": [
      "Population mean estimate (95% confidence interval): (486.1409617565032, 513.8590382434968)\n"
     ]
    }
   ],
   "source": [
    "import scipy.stats as stats\n",
    "\n",
    "sample_mean = 500\n",
    "sample_std = 50\n",
    "sample_size = 50\n",
    "confidence_level = 0.95\n",
    "\n",
    "margin_of_error = stats.norm.ppf((1 + confidence_level) / 2) * (sample_std / (sample_size ** 0.5))\n",
    "confidence_interval = (sample_mean - margin_of_error, sample_mean + margin_of_error)\n",
    "\n",
    "print(f\"Population mean estimate (95% confidence interval): {confidence_interval}\")\n"
   ]
  },
  {
   "cell_type": "code",
   "execution_count": null,
   "id": "835d40e3-0e90-46dd-9d36-2c624f2b22a7",
   "metadata": {},
   "outputs": [],
   "source": []
  },
  {
   "cell_type": "markdown",
   "id": "597a5411-c901-4cbc-a706-44f92575483f",
   "metadata": {},
   "source": [
    "\n",
    "### Q14. A researcher hypothesizes that a new drug will decrease blood pressure by 10 mmHg. They conduct a clinical trial with 100 patients and find that the sample mean decrease in blood pressure is 8 mmHg with a standard deviation of 3 mmHg. Test the hypothesis with a significance level of 0.05.\n"
   ]
  },
  {
   "cell_type": "code",
   "execution_count": 6,
   "id": "f902e25e-c71f-4bb0-b809-198ef2eaf5b7",
   "metadata": {},
   "outputs": [
    {
     "name": "stdout",
     "output_type": "stream",
     "text": [
      "Reject the null hypothesis.\n"
     ]
    }
   ],
   "source": [
    "import scipy.stats as stats\n",
    "\n",
    "null_hypothesis_value = 10\n",
    "sample_mean = 8\n",
    "sample_std = 3\n",
    "sample_size = 100\n",
    "significance_level = 0.05\n",
    "\n",
    "z_score = (sample_mean - null_hypothesis_value) / (sample_std / (sample_size ** 0.5))\n",
    "p_value = 2 * (1 - stats.norm.cdf(abs(z_score)))\n",
    "\n",
    "if p_value < significance_level:\n",
    "    print(\"Reject the null hypothesis.\")\n",
    "else:\n",
    "    print(\"Fail to reject the null hypothesis.\")\n"
   ]
  },
  {
   "cell_type": "code",
   "execution_count": null,
   "id": "40ef479e-b5bd-4b5e-b0bc-082625ac942a",
   "metadata": {},
   "outputs": [],
   "source": []
  },
  {
   "cell_type": "markdown",
   "id": "9f1322b5-bf87-494f-9302-a4be31343de2",
   "metadata": {},
   "source": [
    "\n",
    "### Q15. An electronics company produces a certain type of product with a mean weight of 5 pounds and a standard deviation of 0.5 pounds. A random sample of 25 products is taken, and the sample mean weight is found to be 4.8 pounds. Test the hypothesis that the true mean weight of the products is less than 5 pounds with a significance level of 0.01.\n"
   ]
  },
  {
   "cell_type": "code",
   "execution_count": 7,
   "id": "7fd0d6e2-1959-4f34-8568-62142a71e1bc",
   "metadata": {},
   "outputs": [
    {
     "name": "stdout",
     "output_type": "stream",
     "text": [
      "Fail to reject the null hypothesis.\n"
     ]
    }
   ],
   "source": [
    "import scipy.stats as stats\n",
    "\n",
    "null_hypothesis_value = 5\n",
    "sample_mean = 4.8\n",
    "sample_std = 0.5\n",
    "sample_size = 25\n",
    "significance_level = 0.01\n",
    "\n",
    "z_score = (sample_mean - null_hypothesis_value) / (sample_std / (sample_size ** 0.5))\n",
    "p_value = stats.norm.cdf(z_score)\n",
    "\n",
    "if p_value < significance_level:\n",
    "    print(\"Reject the null hypothesis.\")\n",
    "else:\n",
    "    print(\"Fail to reject the null hypothesis.\")\n"
   ]
  },
  {
   "cell_type": "code",
   "execution_count": null,
   "id": "75945524-f06e-44c2-a827-71fe78450561",
   "metadata": {},
   "outputs": [],
   "source": []
  },
  {
   "cell_type": "markdown",
   "id": "8f3a3377-269f-468b-9934-0c7f39d4eadd",
   "metadata": {},
   "source": [
    "\n",
    "### Q16. Two groups of students are given different study materials to prepare for a test. The first group (n1 = 30) has a mean score of 80 with a standard deviation of 10, and the second group (n2 = 40) has a mean score of 75 with a standard deviation of 8. Test the hypothesis that the population means for the two groups are equal with a significance level of 0.01.\n"
   ]
  },
  {
   "cell_type": "code",
   "execution_count": 8,
   "id": "44528248-e88f-4406-a30b-155e2ff65196",
   "metadata": {},
   "outputs": [
    {
     "name": "stdout",
     "output_type": "stream",
     "text": [
      "Fail to reject the null hypothesis.\n"
     ]
    }
   ],
   "source": [
    "import scipy.stats as stats\n",
    "\n",
    "sample_mean1 = 80\n",
    "sample_std1 = 10\n",
    "sample_size1 = 30\n",
    "\n",
    "sample_mean2 = 75\n",
    "sample_std2 = 8\n",
    "sample_size2 = 40\n",
    "\n",
    "significance_level = 0.01\n",
    "\n",
    "# Assuming equal variances for simplicity\n",
    "_, p_value = stats.ttest_ind_from_stats(sample_mean1, sample_std1, sample_size1,\n",
    "                                        sample_mean2, sample_std2, sample_size2, equal_var=True)\n",
    "\n",
    "if p_value < significance_level:\n",
    "    print(\"Reject the null hypothesis.\")\n",
    "else:\n",
    "    print(\"Fail to reject the null hypothesis.\")\n"
   ]
  },
  {
   "cell_type": "code",
   "execution_count": null,
   "id": "9728a086-9778-489f-955c-91cfcb71a90e",
   "metadata": {},
   "outputs": [],
   "source": []
  },
  {
   "cell_type": "markdown",
   "id": "801a0223-64a8-42f9-8bd6-04f886b16414",
   "metadata": {},
   "source": [
    "\n",
    "### Q17. A marketing company wants to estimate the average number of ads watched by viewers during a TV program. They take a random sample of 50 viewers and find that the sample mean is 4 with a standard deviation of 1.5. Estimate the population mean with a 99% confidence interval."
   ]
  },
  {
   "cell_type": "code",
   "execution_count": 9,
   "id": "35aa6cef-388d-47b3-8ef2-a18600bcfe0c",
   "metadata": {},
   "outputs": [
    {
     "name": "stdout",
     "output_type": "stream",
     "text": [
      "Population mean estimate (99% confidence interval): (3.4535840896844654, 4.546415910315535)\n"
     ]
    }
   ],
   "source": [
    "import scipy.stats as stats\n",
    "\n",
    "sample_mean = 4\n",
    "sample_std = 1.5\n",
    "sample_size = 50\n",
    "confidence_level = 0.99\n",
    "\n",
    "margin_of_error = stats.norm.ppf((1 + confidence_level) / 2) * (sample_std / (sample_size ** 0.5))\n",
    "confidence_interval = (sample_mean - margin_of_error, sample_mean + margin_of_error)\n",
    "\n",
    "print(f\"Population mean estimate (99% confidence interval): {confidence_interval}\")\n"
   ]
  }
 ],
 "metadata": {
  "kernelspec": {
   "display_name": "Python 3 (ipykernel)",
   "language": "python",
   "name": "python3"
  },
  "language_info": {
   "codemirror_mode": {
    "name": "ipython",
    "version": 3
   },
   "file_extension": ".py",
   "mimetype": "text/x-python",
   "name": "python",
   "nbconvert_exporter": "python",
   "pygments_lexer": "ipython3",
   "version": "3.10.8"
  }
 },
 "nbformat": 4,
 "nbformat_minor": 5
}
